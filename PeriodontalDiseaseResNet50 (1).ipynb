{
  "nbformat": 4,
  "nbformat_minor": 0,
  "metadata": {
    "colab": {
      "provenance": [],
      "gpuType": "T4"
    },
    "kernelspec": {
      "name": "python3",
      "display_name": "Python 3"
    },
    "language_info": {
      "name": "python"
    },
    "accelerator": "GPU"
  },
  "cells": [
    {
      "cell_type": "code",
      "execution_count": null,
      "metadata": {
        "id": "PjNmKSQXRcAY"
      },
      "outputs": [],
      "source": [
        "!mkdir dataset"
      ]
    },
    {
      "cell_type": "code",
      "source": [
        "import zipfile\n",
        "import os\n",
        "\n",
        "zip_path = '/content/dataset/periodontal_disease.zip'\n",
        "extract_to = '/content/dataset'\n",
        "\n",
        "def extract_zip_file(zip_path, extract_to):\n",
        "    with zipfile.ZipFile(zip_path, 'r') as zip_ref:\n",
        "        zip_ref.extractall(extract_to)\n",
        "        print(f\"File diekstraksi ke: {extract_to}\")\n",
        "\n",
        "if not os.path.exists(extract_to):\n",
        "    os.makedirs(extract_to)\n",
        "\n",
        "extract_zip_file(zip_path, extract_to)\n",
        "\n",
        "os.remove(zip_path)"
      ],
      "metadata": {
        "colab": {
          "base_uri": "https://localhost:8080/"
        },
        "id": "eE6OWiRmR33t",
        "outputId": "9ada36ea-bd31-4880-c2ae-ed665caa713b"
      },
      "execution_count": null,
      "outputs": [
        {
          "output_type": "stream",
          "name": "stdout",
          "text": [
            "File diekstraksi ke: /content/dataset\n"
          ]
        }
      ]
    },
    {
      "cell_type": "code",
      "source": [
        "!pip install tensorflow\n",
        "\n",
        "import tensorflow as tf\n",
        "from tensorflow.keras.applications import ResNet50\n",
        "from tensorflow.keras.models import Model\n",
        "from tensorflow.keras.layers import Dense, GlobalAveragePooling2D, Dropout\n",
        "from tensorflow.keras.preprocessing.image import ImageDataGenerator\n",
        "from tensorflow.keras.optimizers import Adam\n",
        "import os\n"
      ],
      "metadata": {
        "colab": {
          "base_uri": "https://localhost:8080/"
        },
        "id": "m2ve8NjNR5mf",
        "outputId": "699bb3f0-ba95-42df-8657-1ba1472a6ec9"
      },
      "execution_count": null,
      "outputs": [
        {
          "output_type": "stream",
          "name": "stdout",
          "text": [
            "Requirement already satisfied: tensorflow in /usr/local/lib/python3.10/dist-packages (2.17.0)\n",
            "Requirement already satisfied: absl-py>=1.0.0 in /usr/local/lib/python3.10/dist-packages (from tensorflow) (1.4.0)\n",
            "Requirement already satisfied: astunparse>=1.6.0 in /usr/local/lib/python3.10/dist-packages (from tensorflow) (1.6.3)\n",
            "Requirement already satisfied: flatbuffers>=24.3.25 in /usr/local/lib/python3.10/dist-packages (from tensorflow) (24.3.25)\n",
            "Requirement already satisfied: gast!=0.5.0,!=0.5.1,!=0.5.2,>=0.2.1 in /usr/local/lib/python3.10/dist-packages (from tensorflow) (0.6.0)\n",
            "Requirement already satisfied: google-pasta>=0.1.1 in /usr/local/lib/python3.10/dist-packages (from tensorflow) (0.2.0)\n",
            "Requirement already satisfied: h5py>=3.10.0 in /usr/local/lib/python3.10/dist-packages (from tensorflow) (3.11.0)\n",
            "Requirement already satisfied: libclang>=13.0.0 in /usr/local/lib/python3.10/dist-packages (from tensorflow) (18.1.1)\n",
            "Requirement already satisfied: ml-dtypes<0.5.0,>=0.3.1 in /usr/local/lib/python3.10/dist-packages (from tensorflow) (0.4.0)\n",
            "Requirement already satisfied: opt-einsum>=2.3.2 in /usr/local/lib/python3.10/dist-packages (from tensorflow) (3.3.0)\n",
            "Requirement already satisfied: packaging in /usr/local/lib/python3.10/dist-packages (from tensorflow) (24.1)\n",
            "Requirement already satisfied: protobuf!=4.21.0,!=4.21.1,!=4.21.2,!=4.21.3,!=4.21.4,!=4.21.5,<5.0.0dev,>=3.20.3 in /usr/local/lib/python3.10/dist-packages (from tensorflow) (3.20.3)\n",
            "Requirement already satisfied: requests<3,>=2.21.0 in /usr/local/lib/python3.10/dist-packages (from tensorflow) (2.31.0)\n",
            "Requirement already satisfied: setuptools in /usr/local/lib/python3.10/dist-packages (from tensorflow) (67.7.2)\n",
            "Requirement already satisfied: six>=1.12.0 in /usr/local/lib/python3.10/dist-packages (from tensorflow) (1.16.0)\n",
            "Requirement already satisfied: termcolor>=1.1.0 in /usr/local/lib/python3.10/dist-packages (from tensorflow) (2.4.0)\n",
            "Requirement already satisfied: typing-extensions>=3.6.6 in /usr/local/lib/python3.10/dist-packages (from tensorflow) (4.12.2)\n",
            "Requirement already satisfied: wrapt>=1.11.0 in /usr/local/lib/python3.10/dist-packages (from tensorflow) (1.14.1)\n",
            "Requirement already satisfied: grpcio<2.0,>=1.24.3 in /usr/local/lib/python3.10/dist-packages (from tensorflow) (1.64.1)\n",
            "Requirement already satisfied: tensorboard<2.18,>=2.17 in /usr/local/lib/python3.10/dist-packages (from tensorflow) (2.17.0)\n",
            "Requirement already satisfied: keras>=3.2.0 in /usr/local/lib/python3.10/dist-packages (from tensorflow) (3.4.1)\n",
            "Requirement already satisfied: tensorflow-io-gcs-filesystem>=0.23.1 in /usr/local/lib/python3.10/dist-packages (from tensorflow) (0.37.1)\n",
            "Requirement already satisfied: numpy<2.0.0,>=1.23.5 in /usr/local/lib/python3.10/dist-packages (from tensorflow) (1.25.2)\n",
            "Requirement already satisfied: wheel<1.0,>=0.23.0 in /usr/local/lib/python3.10/dist-packages (from astunparse>=1.6.0->tensorflow) (0.43.0)\n",
            "Requirement already satisfied: rich in /usr/local/lib/python3.10/dist-packages (from keras>=3.2.0->tensorflow) (13.7.1)\n",
            "Requirement already satisfied: namex in /usr/local/lib/python3.10/dist-packages (from keras>=3.2.0->tensorflow) (0.0.8)\n",
            "Requirement already satisfied: optree in /usr/local/lib/python3.10/dist-packages (from keras>=3.2.0->tensorflow) (0.12.1)\n",
            "Requirement already satisfied: charset-normalizer<4,>=2 in /usr/local/lib/python3.10/dist-packages (from requests<3,>=2.21.0->tensorflow) (3.3.2)\n",
            "Requirement already satisfied: idna<4,>=2.5 in /usr/local/lib/python3.10/dist-packages (from requests<3,>=2.21.0->tensorflow) (3.7)\n",
            "Requirement already satisfied: urllib3<3,>=1.21.1 in /usr/local/lib/python3.10/dist-packages (from requests<3,>=2.21.0->tensorflow) (2.0.7)\n",
            "Requirement already satisfied: certifi>=2017.4.17 in /usr/local/lib/python3.10/dist-packages (from requests<3,>=2.21.0->tensorflow) (2024.7.4)\n",
            "Requirement already satisfied: markdown>=2.6.8 in /usr/local/lib/python3.10/dist-packages (from tensorboard<2.18,>=2.17->tensorflow) (3.6)\n",
            "Requirement already satisfied: tensorboard-data-server<0.8.0,>=0.7.0 in /usr/local/lib/python3.10/dist-packages (from tensorboard<2.18,>=2.17->tensorflow) (0.7.2)\n",
            "Requirement already satisfied: werkzeug>=1.0.1 in /usr/local/lib/python3.10/dist-packages (from tensorboard<2.18,>=2.17->tensorflow) (3.0.3)\n",
            "Requirement already satisfied: MarkupSafe>=2.1.1 in /usr/local/lib/python3.10/dist-packages (from werkzeug>=1.0.1->tensorboard<2.18,>=2.17->tensorflow) (2.1.5)\n",
            "Requirement already satisfied: markdown-it-py>=2.2.0 in /usr/local/lib/python3.10/dist-packages (from rich->keras>=3.2.0->tensorflow) (3.0.0)\n",
            "Requirement already satisfied: pygments<3.0.0,>=2.13.0 in /usr/local/lib/python3.10/dist-packages (from rich->keras>=3.2.0->tensorflow) (2.16.1)\n",
            "Requirement already satisfied: mdurl~=0.1 in /usr/local/lib/python3.10/dist-packages (from markdown-it-py>=2.2.0->rich->keras>=3.2.0->tensorflow) (0.1.2)\n"
          ]
        }
      ]
    },
    {
      "cell_type": "code",
      "source": [
        "base_model = ResNet50(weights='imagenet', include_top=False, input_shape=(224, 224, 3))\n",
        "\n",
        "for layer in base_model.layers:\n",
        "    layer.trainable = False\n",
        "\n",
        "x = base_model.output\n",
        "x = GlobalAveragePooling2D()(x)\n",
        "x = Dense(1024, activation='relu')(x)\n",
        "x = Dropout(0.5)(x)\n",
        "predictions = Dense(1, activation='sigmoid')(x)  # Ganti '3' dengan jumlah kelas Anda\n",
        "\n",
        "model = Model(inputs=base_model.input, outputs=predictions)\n",
        "\n",
        "model.compile(optimizer=Adam(learning_rate=0.0003), loss='binary_crossentropy', metrics=['accuracy'])\n"
      ],
      "metadata": {
        "id": "CMSzvvY7dUVa"
      },
      "execution_count": null,
      "outputs": []
    },
    {
      "cell_type": "code",
      "source": [
        "train_datagen = ImageDataGenerator(\n",
        "    rescale=1./255,\n",
        "    rotation_range=40,\n",
        "    width_shift_range=0.2,\n",
        "    height_shift_range=0.2,\n",
        "    shear_range=0.2,\n",
        "    zoom_range=0.2,\n",
        "    horizontal_flip=True,\n",
        "    fill_mode='nearest'\n",
        ")\n",
        "\n",
        "validation_datagen = ImageDataGenerator(rescale=1./255)\n",
        "\n",
        "train_generator = train_datagen.flow_from_directory(\n",
        "    '/content/dataset/periodontal_disease/train',  # Ganti dengan path ke data training\n",
        "    target_size=(224, 224),\n",
        "    batch_size=32,\n",
        "    class_mode='binary'\n",
        ")\n",
        "\n",
        "validation_generator = validation_datagen.flow_from_directory(\n",
        "    '/content/dataset/periodontal_disease/val',  # Ganti dengan path ke data validasi\n",
        "    target_size=(224, 224),\n",
        "    batch_size=32,\n",
        "    class_mode='binary'\n",
        ")\n"
      ],
      "metadata": {
        "colab": {
          "base_uri": "https://localhost:8080/"
        },
        "id": "tp7Xa8iSdXjU",
        "outputId": "286c61c4-264e-42ad-e316-191569d54f30"
      },
      "execution_count": null,
      "outputs": [
        {
          "output_type": "stream",
          "name": "stdout",
          "text": [
            "Found 132 images belonging to 2 classes.\n",
            "Found 44 images belonging to 2 classes.\n"
          ]
        }
      ]
    },
    {
      "cell_type": "code",
      "source": [
        "history = model.fit(\n",
        "    train_generator,\n",
        "    epochs=30,\n",
        "    validation_data=validation_generator\n",
        ")\n"
      ],
      "metadata": {
        "colab": {
          "base_uri": "https://localhost:8080/"
        },
        "id": "vhAN5yrLez-B",
        "outputId": "b127c822-145d-400b-d662-5fec825aa643"
      },
      "execution_count": null,
      "outputs": [
        {
          "output_type": "stream",
          "name": "stdout",
          "text": [
            "Epoch 1/30\n"
          ]
        },
        {
          "output_type": "stream",
          "name": "stderr",
          "text": [
            "/usr/local/lib/python3.10/dist-packages/keras/src/trainers/data_adapters/py_dataset_adapter.py:121: UserWarning: Your `PyDataset` class should call `super().__init__(**kwargs)` in its constructor. `**kwargs` can include `workers`, `use_multiprocessing`, `max_queue_size`. Do not pass these arguments to `fit()`, as they will be ignored.\n",
            "  self._warn_if_super_not_called()\n"
          ]
        },
        {
          "output_type": "stream",
          "name": "stdout",
          "text": [
            "\u001b[1m5/5\u001b[0m \u001b[32m━━━━━━━━━━━━━━━━━━━━\u001b[0m\u001b[37m\u001b[0m \u001b[1m31s\u001b[0m 4s/step - accuracy: 0.6123 - loss: 0.7013 - val_accuracy: 0.6364 - val_loss: 0.6655\n",
            "Epoch 2/30\n",
            "\u001b[1m5/5\u001b[0m \u001b[32m━━━━━━━━━━━━━━━━━━━━\u001b[0m\u001b[37m\u001b[0m \u001b[1m4s\u001b[0m 185ms/step - accuracy: 0.6260 - loss: 0.7059 - val_accuracy: 0.6364 - val_loss: 0.6830\n",
            "Epoch 3/30\n",
            "\u001b[1m5/5\u001b[0m \u001b[32m━━━━━━━━━━━━━━━━━━━━\u001b[0m\u001b[37m\u001b[0m \u001b[1m3s\u001b[0m 117ms/step - accuracy: 0.4815 - loss: 0.7997 - val_accuracy: 0.6364 - val_loss: 0.7575\n",
            "Epoch 4/30\n",
            "\u001b[1m5/5\u001b[0m \u001b[32m━━━━━━━━━━━━━━━━━━━━\u001b[0m\u001b[37m\u001b[0m \u001b[1m5s\u001b[0m 119ms/step - accuracy: 0.5990 - loss: 0.7836 - val_accuracy: 0.6364 - val_loss: 0.6563\n",
            "Epoch 5/30\n",
            "\u001b[1m5/5\u001b[0m \u001b[32m━━━━━━━━━━━━━━━━━━━━\u001b[0m\u001b[37m\u001b[0m \u001b[1m5s\u001b[0m 117ms/step - accuracy: 0.5647 - loss: 0.6870 - val_accuracy: 0.6364 - val_loss: 0.6780\n",
            "Epoch 6/30\n",
            "\u001b[1m5/5\u001b[0m \u001b[32m━━━━━━━━━━━━━━━━━━━━\u001b[0m\u001b[37m\u001b[0m \u001b[1m2s\u001b[0m 136ms/step - accuracy: 0.5051 - loss: 0.7821 - val_accuracy: 0.6364 - val_loss: 0.6615\n",
            "Epoch 7/30\n",
            "\u001b[1m5/5\u001b[0m \u001b[32m━━━━━━━━━━━━━━━━━━━━\u001b[0m\u001b[37m\u001b[0m \u001b[1m5s\u001b[0m 157ms/step - accuracy: 0.4621 - loss: 0.7890 - val_accuracy: 0.6364 - val_loss: 0.7001\n",
            "Epoch 8/30\n",
            "\u001b[1m5/5\u001b[0m \u001b[32m━━━━━━━━━━━━━━━━━━━━\u001b[0m\u001b[37m\u001b[0m \u001b[1m3s\u001b[0m 184ms/step - accuracy: 0.6026 - loss: 0.8639 - val_accuracy: 0.6364 - val_loss: 0.6669\n",
            "Epoch 9/30\n",
            "\u001b[1m5/5\u001b[0m \u001b[32m━━━━━━━━━━━━━━━━━━━━\u001b[0m\u001b[37m\u001b[0m \u001b[1m5s\u001b[0m 117ms/step - accuracy: 0.5519 - loss: 0.7521 - val_accuracy: 0.6364 - val_loss: 0.6713\n",
            "Epoch 10/30\n",
            "\u001b[1m5/5\u001b[0m \u001b[32m━━━━━━━━━━━━━━━━━━━━\u001b[0m\u001b[37m\u001b[0m \u001b[1m2s\u001b[0m 146ms/step - accuracy: 0.5209 - loss: 0.7341 - val_accuracy: 0.6364 - val_loss: 0.6572\n",
            "Epoch 11/30\n",
            "\u001b[1m5/5\u001b[0m \u001b[32m━━━━━━━━━━━━━━━━━━━━\u001b[0m\u001b[37m\u001b[0m \u001b[1m4s\u001b[0m 159ms/step - accuracy: 0.5123 - loss: 0.7368 - val_accuracy: 0.6364 - val_loss: 0.6620\n",
            "Epoch 12/30\n",
            "\u001b[1m5/5\u001b[0m \u001b[32m━━━━━━━━━━━━━━━━━━━━\u001b[0m\u001b[37m\u001b[0m \u001b[1m3s\u001b[0m 148ms/step - accuracy: 0.4846 - loss: 0.7612 - val_accuracy: 0.6364 - val_loss: 0.6578\n",
            "Epoch 13/30\n",
            "\u001b[1m5/5\u001b[0m \u001b[32m━━━━━━━━━━━━━━━━━━━━\u001b[0m\u001b[37m\u001b[0m \u001b[1m2s\u001b[0m 140ms/step - accuracy: 0.5982 - loss: 0.7517 - val_accuracy: 0.6364 - val_loss: 0.6756\n",
            "Epoch 14/30\n",
            "\u001b[1m5/5\u001b[0m \u001b[32m━━━━━━━━━━━━━━━━━━━━\u001b[0m\u001b[37m\u001b[0m \u001b[1m3s\u001b[0m 159ms/step - accuracy: 0.6658 - loss: 0.6410 - val_accuracy: 0.6364 - val_loss: 0.6663\n",
            "Epoch 15/30\n",
            "\u001b[1m5/5\u001b[0m \u001b[32m━━━━━━━━━━━━━━━━━━━━\u001b[0m\u001b[37m\u001b[0m \u001b[1m3s\u001b[0m 153ms/step - accuracy: 0.6546 - loss: 0.6665 - val_accuracy: 0.6364 - val_loss: 0.6656\n",
            "Epoch 16/30\n",
            "\u001b[1m5/5\u001b[0m \u001b[32m━━━━━━━━━━━━━━━━━━━━\u001b[0m\u001b[37m\u001b[0m \u001b[1m2s\u001b[0m 118ms/step - accuracy: 0.5992 - loss: 0.6883 - val_accuracy: 0.3636 - val_loss: 0.7129\n",
            "Epoch 17/30\n",
            "\u001b[1m5/5\u001b[0m \u001b[32m━━━━━━━━━━━━━━━━━━━━\u001b[0m\u001b[37m\u001b[0m \u001b[1m3s\u001b[0m 139ms/step - accuracy: 0.4426 - loss: 0.7424 - val_accuracy: 0.6364 - val_loss: 0.6588\n",
            "Epoch 18/30\n",
            "\u001b[1m5/5\u001b[0m \u001b[32m━━━━━━━━━━━━━━━━━━━━\u001b[0m\u001b[37m\u001b[0m \u001b[1m3s\u001b[0m 117ms/step - accuracy: 0.6249 - loss: 0.6804 - val_accuracy: 0.6364 - val_loss: 0.6825\n",
            "Epoch 19/30\n",
            "\u001b[1m5/5\u001b[0m \u001b[32m━━━━━━━━━━━━━━━━━━━━\u001b[0m\u001b[37m\u001b[0m \u001b[1m3s\u001b[0m 158ms/step - accuracy: 0.6500 - loss: 0.6844 - val_accuracy: 0.6364 - val_loss: 0.6587\n",
            "Epoch 20/30\n",
            "\u001b[1m5/5\u001b[0m \u001b[32m━━━━━━━━━━━━━━━━━━━━\u001b[0m\u001b[37m\u001b[0m \u001b[1m5s\u001b[0m 119ms/step - accuracy: 0.5492 - loss: 0.6892 - val_accuracy: 0.6364 - val_loss: 0.6815\n",
            "Epoch 21/30\n",
            "\u001b[1m5/5\u001b[0m \u001b[32m━━━━━━━━━━━━━━━━━━━━\u001b[0m\u001b[37m\u001b[0m \u001b[1m2s\u001b[0m 121ms/step - accuracy: 0.4926 - loss: 0.7761 - val_accuracy: 0.6364 - val_loss: 0.6771\n",
            "Epoch 22/30\n",
            "\u001b[1m5/5\u001b[0m \u001b[32m━━━━━━━━━━━━━━━━━━━━\u001b[0m\u001b[37m\u001b[0m \u001b[1m4s\u001b[0m 136ms/step - accuracy: 0.5408 - loss: 0.7729 - val_accuracy: 0.6364 - val_loss: 0.6838\n",
            "Epoch 23/30\n",
            "\u001b[1m5/5\u001b[0m \u001b[32m━━━━━━━━━━━━━━━━━━━━\u001b[0m\u001b[37m\u001b[0m \u001b[1m4s\u001b[0m 112ms/step - accuracy: 0.5535 - loss: 0.7454 - val_accuracy: 0.6364 - val_loss: 0.6645\n",
            "Epoch 24/30\n",
            "\u001b[1m5/5\u001b[0m \u001b[32m━━━━━━━━━━━━━━━━━━━━\u001b[0m\u001b[37m\u001b[0m \u001b[1m2s\u001b[0m 125ms/step - accuracy: 0.6283 - loss: 0.6415 - val_accuracy: 0.6364 - val_loss: 0.6618\n",
            "Epoch 25/30\n",
            "\u001b[1m5/5\u001b[0m \u001b[32m━━━━━━━━━━━━━━━━━━━━\u001b[0m\u001b[37m\u001b[0m \u001b[1m3s\u001b[0m 136ms/step - accuracy: 0.6307 - loss: 0.6559 - val_accuracy: 0.6364 - val_loss: 0.6592\n",
            "Epoch 26/30\n",
            "\u001b[1m5/5\u001b[0m \u001b[32m━━━━━━━━━━━━━━━━━━━━\u001b[0m\u001b[37m\u001b[0m \u001b[1m2s\u001b[0m 109ms/step - accuracy: 0.5210 - loss: 0.7326 - val_accuracy: 0.6364 - val_loss: 0.6610\n",
            "Epoch 27/30\n",
            "\u001b[1m5/5\u001b[0m \u001b[32m━━━━━━━━━━━━━━━━━━━━\u001b[0m\u001b[37m\u001b[0m \u001b[1m3s\u001b[0m 131ms/step - accuracy: 0.5550 - loss: 0.7198 - val_accuracy: 0.6364 - val_loss: 0.6622\n",
            "Epoch 28/30\n",
            "\u001b[1m5/5\u001b[0m \u001b[32m━━━━━━━━━━━━━━━━━━━━\u001b[0m\u001b[37m\u001b[0m \u001b[1m2s\u001b[0m 142ms/step - accuracy: 0.5852 - loss: 0.6671 - val_accuracy: 0.6364 - val_loss: 0.6594\n",
            "Epoch 29/30\n",
            "\u001b[1m5/5\u001b[0m \u001b[32m━━━━━━━━━━━━━━━━━━━━\u001b[0m\u001b[37m\u001b[0m \u001b[1m2s\u001b[0m 115ms/step - accuracy: 0.6244 - loss: 0.6736 - val_accuracy: 0.6364 - val_loss: 0.6598\n",
            "Epoch 30/30\n",
            "\u001b[1m5/5\u001b[0m \u001b[32m━━━━━━━━━━━━━━━━━━━━\u001b[0m\u001b[37m\u001b[0m \u001b[1m3s\u001b[0m 161ms/step - accuracy: 0.5689 - loss: 0.6949 - val_accuracy: 0.6364 - val_loss: 0.6679\n"
          ]
        }
      ]
    },
    {
      "cell_type": "code",
      "source": [
        "model.save('periodontal_disease_model_resnet50.h5')"
      ],
      "metadata": {
        "colab": {
          "base_uri": "https://localhost:8080/"
        },
        "id": "RaEqKqNde7G2",
        "outputId": "2fdacdaf-4166-46a7-f8b6-ec11a52e2b70"
      },
      "execution_count": null,
      "outputs": [
        {
          "output_type": "stream",
          "name": "stderr",
          "text": [
            "WARNING:absl:You are saving your model as an HDF5 file via `model.save()` or `keras.saving.save_model(model)`. This file format is considered legacy. We recommend using instead the native Keras format, e.g. `model.save('my_model.keras')` or `keras.saving.save_model(model, 'my_model.keras')`. \n"
          ]
        }
      ]
    },
    {
      "cell_type": "code",
      "source": [
        "model = tf.keras.models.load_model('periodontal_disease_model_resnet50.h5')\n",
        "\n",
        "test_datagen = ImageDataGenerator(rescale=1./255)\n",
        "\n",
        "test_generator = test_datagen.flow_from_directory(\n",
        "    '/content/dataset/periodontal_disease/test',  # Ganti dengan path ke data uji\n",
        "    target_size=(224, 224),\n",
        "    batch_size=32,\n",
        "    class_mode='categorical',\n",
        "    shuffle=False\n",
        ")\n",
        "\n",
        "predictions = model.predict(test_generator)\n"
      ],
      "metadata": {
        "colab": {
          "base_uri": "https://localhost:8080/"
        },
        "id": "IfTTo2Nfe8wU",
        "outputId": "7659dcb6-4981-43c8-8d04-2a302b948f53"
      },
      "execution_count": null,
      "outputs": [
        {
          "output_type": "stream",
          "name": "stderr",
          "text": [
            "WARNING:absl:Compiled the loaded model, but the compiled metrics have yet to be built. `model.compile_metrics` will be empty until you train or evaluate the model.\n"
          ]
        },
        {
          "output_type": "stream",
          "name": "stdout",
          "text": [
            "Found 44 images belonging to 2 classes.\n",
            "\u001b[1m2/2\u001b[0m \u001b[32m━━━━━━━━━━━━━━━━━━━━\u001b[0m\u001b[37m\u001b[0m \u001b[1m8s\u001b[0m 3s/step\n"
          ]
        }
      ]
    },
    {
      "cell_type": "code",
      "source": [
        "import numpy as np\n",
        "from sklearn.metrics import classification_report, confusion_matrix\n",
        "\n",
        "true_labels = test_generator.classes\n",
        "\n",
        "predicted_labels = np.argmax(predictions, axis=1)\n",
        "\n",
        "print('Classification Report')\n",
        "print(classification_report(true_labels, predicted_labels, target_names=test_generator.class_indices.keys()))\n",
        "\n",
        "print('Confusion Matrix')\n",
        "print(confusion_matrix(true_labels, predicted_labels))\n"
      ],
      "metadata": {
        "colab": {
          "base_uri": "https://localhost:8080/"
        },
        "id": "pzchspJafDAE",
        "outputId": "bac4598f-5f7e-45a7-9211-95e9d6c105d6"
      },
      "execution_count": null,
      "outputs": [
        {
          "output_type": "stream",
          "name": "stdout",
          "text": [
            "Classification Report\n",
            "              precision    recall  f1-score   support\n",
            "\n",
            "inflammation       0.64      1.00      0.78        28\n",
            "      normal       0.00      0.00      0.00        16\n",
            "\n",
            "    accuracy                           0.64        44\n",
            "   macro avg       0.32      0.50      0.39        44\n",
            "weighted avg       0.40      0.64      0.49        44\n",
            "\n",
            "Confusion Matrix\n",
            "[[28  0]\n",
            " [16  0]]\n"
          ]
        },
        {
          "output_type": "stream",
          "name": "stderr",
          "text": [
            "/usr/local/lib/python3.10/dist-packages/sklearn/metrics/_classification.py:1344: UndefinedMetricWarning: Precision and F-score are ill-defined and being set to 0.0 in labels with no predicted samples. Use `zero_division` parameter to control this behavior.\n",
            "  _warn_prf(average, modifier, msg_start, len(result))\n",
            "/usr/local/lib/python3.10/dist-packages/sklearn/metrics/_classification.py:1344: UndefinedMetricWarning: Precision and F-score are ill-defined and being set to 0.0 in labels with no predicted samples. Use `zero_division` parameter to control this behavior.\n",
            "  _warn_prf(average, modifier, msg_start, len(result))\n",
            "/usr/local/lib/python3.10/dist-packages/sklearn/metrics/_classification.py:1344: UndefinedMetricWarning: Precision and F-score are ill-defined and being set to 0.0 in labels with no predicted samples. Use `zero_division` parameter to control this behavior.\n",
            "  _warn_prf(average, modifier, msg_start, len(result))\n"
          ]
        }
      ]
    },
    {
      "cell_type": "code",
      "source": [
        "import matplotlib.pyplot as plt\n",
        "import seaborn as sns\n",
        "\n",
        "conf_matrix = confusion_matrix(true_labels, predicted_labels)\n",
        "plt.figure(figsize=(10, 8))\n",
        "sns.heatmap(conf_matrix, annot=True, fmt=\"d\", cmap=\"Blues\", xticklabels=test_generator.class_indices.keys(), yticklabels=test_generator.class_indices.keys())\n",
        "plt.title('Confusion Matrix')\n",
        "plt.xlabel('Predicted Label')\n",
        "plt.ylabel('True Label')\n",
        "plt.show()\n"
      ],
      "metadata": {
        "id": "hB2stObYfFY4"
      },
      "execution_count": null,
      "outputs": []
    },
    {
      "cell_type": "code",
      "source": [
        "configs = config_util.get_configs_from_pipeline_file(pipeline_config)\n",
        "model_config = configs['model']\n",
        "detection_model = model_builder.build(model_config=model_config, is_training=False)\n",
        "\n",
        "ckpt = tf.compat.v2.train.Checkpoint(model=detection_model)\n",
        "ckpt.restore(checkpoint_path).expect_partial()\n"
      ],
      "metadata": {
        "id": "d9YD9ztDdWfg"
      },
      "execution_count": null,
      "outputs": []
    },
    {
      "cell_type": "code",
      "source": [
        "base_model = VGG16(weights='imagenet', include_top=False, input_shape=(224, 224, 3))\n",
        "\n",
        "for layer in base_model.layers:\n",
        "    layer.trainable = False\n",
        "\n",
        "x = base_model.output\n",
        "x = GlobalAveragePooling2D()(x)\n",
        "x = Dense(1024, activation='relu')(x)\n",
        "x = Dropout(0.5)(x)\n",
        "predictions = Dense(1, activation='sigmoid')(x)  # Ganti '3' dengan jumlah kelas Anda\n",
        "\n",
        "model = Model(inputs=base_model.input, outputs=predictions)\n",
        "\n",
        "model.compile(optimizer=Adam(learning_rate=0.0001), loss='binary_crossentropy', metrics=['accuracy'])"
      ],
      "metadata": {
        "id": "GjqkR6jqR7in"
      },
      "execution_count": null,
      "outputs": []
    },
    {
      "cell_type": "code",
      "source": [
        "train_datagen = ImageDataGenerator(\n",
        "    rescale=1./255,\n",
        "    rotation_range=40,\n",
        "    width_shift_range=0.2,\n",
        "    height_shift_range=0.2,\n",
        "    shear_range=0.2,\n",
        "    zoom_range=0.2,\n",
        "    horizontal_flip=True,\n",
        "    fill_mode='nearest'\n",
        ")\n",
        "\n",
        "validation_datagen = ImageDataGenerator(rescale=1./255)\n",
        "\n",
        "train_generator = train_datagen.flow_from_directory(\n",
        "    '/content/dataset/periodontal_disease/train',  # Ganti dengan path ke data training\n",
        "    target_size=(224, 224),\n",
        "    batch_size=32,\n",
        "    class_mode='binary'\n",
        ")\n",
        "\n",
        "validation_generator = validation_datagen.flow_from_directory(\n",
        "    '/content/dataset/periodontal_disease/val',  # Ganti dengan path ke data validasi\n",
        "    target_size=(224, 224),\n",
        "    batch_size=32,\n",
        "    class_mode='binary'\n",
        ")\n"
      ],
      "metadata": {
        "colab": {
          "base_uri": "https://localhost:8080/"
        },
        "id": "0T_wM2rTR9pw",
        "outputId": "bc05fa1e-e252-4c91-b912-d559f008c726"
      },
      "execution_count": null,
      "outputs": [
        {
          "output_type": "stream",
          "name": "stdout",
          "text": [
            "Found 132 images belonging to 2 classes.\n",
            "Found 44 images belonging to 2 classes.\n"
          ]
        }
      ]
    },
    {
      "cell_type": "code",
      "source": [
        "history = model.fit(\n",
        "    train_generator,\n",
        "    epochs=30,\n",
        "    validation_data=validation_generator\n",
        ")\n"
      ],
      "metadata": {
        "colab": {
          "base_uri": "https://localhost:8080/"
        },
        "id": "0jq1er05R-1B",
        "outputId": "adff8ccf-180e-498f-efe9-f09518ad9142"
      },
      "execution_count": null,
      "outputs": [
        {
          "output_type": "stream",
          "name": "stdout",
          "text": [
            "Epoch 1/30\n",
            "5/5 [==============================] - 21s 5s/step - loss: 0.7281 - accuracy: 0.5227 - val_loss: 0.6606 - val_accuracy: 0.6364\n",
            "Epoch 2/30\n",
            "5/5 [==============================] - 2s 420ms/step - loss: 0.7004 - accuracy: 0.6061 - val_loss: 0.6598 - val_accuracy: 0.6364\n",
            "Epoch 3/30\n",
            "5/5 [==============================] - 2s 414ms/step - loss: 0.6905 - accuracy: 0.5985 - val_loss: 0.6587 - val_accuracy: 0.6364\n",
            "Epoch 4/30\n",
            "5/5 [==============================] - 2s 428ms/step - loss: 0.6578 - accuracy: 0.6439 - val_loss: 0.6584 - val_accuracy: 0.6364\n",
            "Epoch 5/30\n",
            "5/5 [==============================] - 2s 593ms/step - loss: 0.6736 - accuracy: 0.6136 - val_loss: 0.6600 - val_accuracy: 0.6364\n",
            "Epoch 6/30\n",
            "5/5 [==============================] - 3s 504ms/step - loss: 0.6639 - accuracy: 0.5985 - val_loss: 0.6617 - val_accuracy: 0.6364\n",
            "Epoch 7/30\n",
            "5/5 [==============================] - 2s 427ms/step - loss: 0.6528 - accuracy: 0.6136 - val_loss: 0.6639 - val_accuracy: 0.6364\n",
            "Epoch 8/30\n",
            "5/5 [==============================] - 2s 531ms/step - loss: 0.6560 - accuracy: 0.5985 - val_loss: 0.6629 - val_accuracy: 0.6364\n",
            "Epoch 9/30\n",
            "5/5 [==============================] - 2s 431ms/step - loss: 0.6761 - accuracy: 0.6061 - val_loss: 0.6611 - val_accuracy: 0.6364\n",
            "Epoch 10/30\n",
            "5/5 [==============================] - 3s 495ms/step - loss: 0.6735 - accuracy: 0.6212 - val_loss: 0.6634 - val_accuracy: 0.6364\n",
            "Epoch 11/30\n",
            "5/5 [==============================] - 3s 667ms/step - loss: 0.6771 - accuracy: 0.6136 - val_loss: 0.6691 - val_accuracy: 0.6364\n",
            "Epoch 12/30\n",
            "5/5 [==============================] - 3s 635ms/step - loss: 0.6568 - accuracy: 0.6439 - val_loss: 0.6761 - val_accuracy: 0.6364\n",
            "Epoch 13/30\n",
            "5/5 [==============================] - 2s 534ms/step - loss: 0.6350 - accuracy: 0.6364 - val_loss: 0.6687 - val_accuracy: 0.6364\n",
            "Epoch 14/30\n",
            "5/5 [==============================] - 2s 432ms/step - loss: 0.6629 - accuracy: 0.6136 - val_loss: 0.6647 - val_accuracy: 0.6364\n",
            "Epoch 15/30\n",
            "5/5 [==============================] - 3s 562ms/step - loss: 0.6733 - accuracy: 0.5909 - val_loss: 0.6642 - val_accuracy: 0.6364\n",
            "Epoch 16/30\n",
            "5/5 [==============================] - 2s 402ms/step - loss: 0.6691 - accuracy: 0.5985 - val_loss: 0.6649 - val_accuracy: 0.6364\n",
            "Epoch 17/30\n",
            "5/5 [==============================] - 2s 432ms/step - loss: 0.6663 - accuracy: 0.5682 - val_loss: 0.6651 - val_accuracy: 0.6364\n",
            "Epoch 18/30\n",
            "5/5 [==============================] - 2s 422ms/step - loss: 0.6954 - accuracy: 0.5833 - val_loss: 0.6657 - val_accuracy: 0.6364\n",
            "Epoch 19/30\n",
            "5/5 [==============================] - 3s 575ms/step - loss: 0.6685 - accuracy: 0.6136 - val_loss: 0.6663 - val_accuracy: 0.6364\n",
            "Epoch 20/30\n",
            "5/5 [==============================] - 3s 525ms/step - loss: 0.6530 - accuracy: 0.6288 - val_loss: 0.6658 - val_accuracy: 0.6364\n",
            "Epoch 21/30\n",
            "5/5 [==============================] - 2s 432ms/step - loss: 0.6447 - accuracy: 0.6288 - val_loss: 0.6653 - val_accuracy: 0.6364\n",
            "Epoch 22/30\n",
            "5/5 [==============================] - 2s 427ms/step - loss: 0.6567 - accuracy: 0.6061 - val_loss: 0.6669 - val_accuracy: 0.6364\n",
            "Epoch 23/30\n",
            "5/5 [==============================] - 3s 572ms/step - loss: 0.6559 - accuracy: 0.6439 - val_loss: 0.6682 - val_accuracy: 0.6364\n",
            "Epoch 24/30\n",
            "5/5 [==============================] - 2s 416ms/step - loss: 0.6411 - accuracy: 0.5985 - val_loss: 0.6670 - val_accuracy: 0.6364\n",
            "Epoch 25/30\n",
            "5/5 [==============================] - 2s 413ms/step - loss: 0.6508 - accuracy: 0.6061 - val_loss: 0.6671 - val_accuracy: 0.6364\n",
            "Epoch 26/30\n",
            "5/5 [==============================] - 2s 419ms/step - loss: 0.6215 - accuracy: 0.6212 - val_loss: 0.6653 - val_accuracy: 0.6364\n",
            "Epoch 27/30\n",
            "5/5 [==============================] - 3s 581ms/step - loss: 0.6748 - accuracy: 0.6061 - val_loss: 0.6654 - val_accuracy: 0.6364\n",
            "Epoch 28/30\n",
            "5/5 [==============================] - 3s 539ms/step - loss: 0.6409 - accuracy: 0.6136 - val_loss: 0.6669 - val_accuracy: 0.6364\n",
            "Epoch 29/30\n",
            "5/5 [==============================] - 2s 423ms/step - loss: 0.6611 - accuracy: 0.6212 - val_loss: 0.6677 - val_accuracy: 0.6364\n",
            "Epoch 30/30\n",
            "5/5 [==============================] - 2s 437ms/step - loss: 0.6515 - accuracy: 0.6515 - val_loss: 0.6693 - val_accuracy: 0.6364\n"
          ]
        }
      ]
    },
    {
      "cell_type": "code",
      "source": [
        "model.save('periodontal_disease_model.h5')\n"
      ],
      "metadata": {
        "colab": {
          "base_uri": "https://localhost:8080/"
        },
        "id": "zDdweyrQR_zW",
        "outputId": "e379d775-7d98-412a-a92e-2818f52b95f8"
      },
      "execution_count": null,
      "outputs": [
        {
          "output_type": "stream",
          "name": "stderr",
          "text": [
            "/usr/local/lib/python3.10/dist-packages/keras/src/engine/training.py:3103: UserWarning: You are saving your model as an HDF5 file via `model.save()`. This file format is considered legacy. We recommend using instead the native Keras format, e.g. `model.save('my_model.keras')`.\n",
            "  saving_api.save_model(\n"
          ]
        }
      ]
    },
    {
      "cell_type": "code",
      "source": [
        "# Load model yang sudah dilatih\n",
        "model = tf.keras.models.load_model('periodontal_disease_model.h5')\n",
        "\n",
        "# Persiapkan generator untuk data uji\n",
        "test_datagen = ImageDataGenerator(rescale=1./255)\n",
        "\n",
        "test_generator = test_datagen.flow_from_directory(\n",
        "    '/content/dataset/periodontal_disease/test',  # Ganti dengan path ke data uji\n",
        "    target_size=(224, 224),\n",
        "    batch_size=32,\n",
        "    class_mode='binary',\n",
        "    shuffle=False\n",
        ")\n",
        "\n",
        "# Menghasilkan prediksi\n",
        "predictions = model.predict(test_generator)\n"
      ],
      "metadata": {
        "colab": {
          "base_uri": "https://localhost:8080/"
        },
        "id": "UK3gDoxbSNGv",
        "outputId": "cd60c784-7419-42e1-c9ac-e6280af273ef"
      },
      "execution_count": null,
      "outputs": [
        {
          "output_type": "stream",
          "name": "stdout",
          "text": [
            "Found 44 images belonging to 2 classes.\n",
            "2/2 [==============================] - 1s 155ms/step\n"
          ]
        }
      ]
    },
    {
      "cell_type": "code",
      "source": [
        "import numpy as np\n",
        "from sklearn.metrics import classification_report, confusion_matrix\n",
        "\n",
        "# Mendapatkan label sebenarnya\n",
        "true_labels = test_generator.classes\n",
        "\n",
        "# Mendapatkan label prediksi\n",
        "predicted_labels = np.argmax(predictions, axis=1)\n",
        "\n",
        "# Menghasilkan laporan klasifikasi\n",
        "print('Classification Report')\n",
        "print(classification_report(true_labels, predicted_labels, target_names=test_generator.class_indices.keys()))\n",
        "\n",
        "# Menghasilkan confusion matrix\n",
        "print('Confusion Matrix')\n",
        "print(confusion_matrix(true_labels, predicted_labels))\n"
      ],
      "metadata": {
        "colab": {
          "base_uri": "https://localhost:8080/"
        },
        "id": "hCQpozjISPf0",
        "outputId": "b66f70ce-146a-4780-e480-485516f65cb7"
      },
      "execution_count": null,
      "outputs": [
        {
          "output_type": "stream",
          "name": "stdout",
          "text": [
            "Classification Report\n",
            "              precision    recall  f1-score   support\n",
            "\n",
            "inflammation       0.64      1.00      0.78        28\n",
            "      normal       0.00      0.00      0.00        16\n",
            "\n",
            "    accuracy                           0.64        44\n",
            "   macro avg       0.32      0.50      0.39        44\n",
            "weighted avg       0.40      0.64      0.49        44\n",
            "\n",
            "Confusion Matrix\n",
            "[[28  0]\n",
            " [16  0]]\n"
          ]
        },
        {
          "output_type": "stream",
          "name": "stderr",
          "text": [
            "/usr/local/lib/python3.10/dist-packages/sklearn/metrics/_classification.py:1344: UndefinedMetricWarning: Precision and F-score are ill-defined and being set to 0.0 in labels with no predicted samples. Use `zero_division` parameter to control this behavior.\n",
            "  _warn_prf(average, modifier, msg_start, len(result))\n",
            "/usr/local/lib/python3.10/dist-packages/sklearn/metrics/_classification.py:1344: UndefinedMetricWarning: Precision and F-score are ill-defined and being set to 0.0 in labels with no predicted samples. Use `zero_division` parameter to control this behavior.\n",
            "  _warn_prf(average, modifier, msg_start, len(result))\n",
            "/usr/local/lib/python3.10/dist-packages/sklearn/metrics/_classification.py:1344: UndefinedMetricWarning: Precision and F-score are ill-defined and being set to 0.0 in labels with no predicted samples. Use `zero_division` parameter to control this behavior.\n",
            "  _warn_prf(average, modifier, msg_start, len(result))\n"
          ]
        }
      ]
    },
    {
      "cell_type": "code",
      "source": [
        "import matplotlib.pyplot as plt\n",
        "import seaborn as sns\n",
        "\n",
        "# Plot Confusion Matrix\n",
        "conf_matrix = confusion_matrix(true_labels, predicted_labels)\n",
        "plt.figure(figsize=(10, 8))\n",
        "sns.heatmap(conf_matrix, annot=True, fmt=\"d\", cmap=\"Blues\", xticklabels=test_generator.class_indices.keys(), yticklabels=test_generator.class_indices.keys())\n",
        "plt.title('Confusion Matrix')\n",
        "plt.xlabel('Predicted Label')\n",
        "plt.ylabel('True Label')\n",
        "plt.show()\n"
      ],
      "metadata": {
        "colab": {
          "base_uri": "https://localhost:8080/",
          "height": 718
        },
        "id": "Lsf0tq2ESS1U",
        "outputId": "42fccba6-d31f-4d24-b110-0fa305ffa508"
      },
      "execution_count": null,
      "outputs": [
        {
          "output_type": "display_data",
          "data": {
            "text/plain": [
              "<Figure size 1000x800 with 2 Axes>"
            ],
            "image/png": "[encoded data removed]"
          },
          "metadata": {}
        }
      ]
    }
  ]
}